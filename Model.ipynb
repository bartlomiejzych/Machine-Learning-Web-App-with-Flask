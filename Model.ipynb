{
  "nbformat": 4,
  "nbformat_minor": 0,
  "metadata": {
    "colab": {
      "name": "Model.ipynb",
      "provenance": [],
      "collapsed_sections": []
    },
    "kernelspec": {
      "name": "python3",
      "display_name": "Python 3"
    },
    "language_info": {
      "name": "python"
    },
    "accelerator": "GPU"
  },
  "cells": [
    {
      "cell_type": "code",
      "source": [
        "!git clone --depth 1 -b v2.7.0 https://github.com/tensorflow/models.git"
      ],
      "metadata": {
        "colab": {
          "base_uri": "https://localhost:8080/"
        },
        "id": "gQUG_EbnNEtF",
        "outputId": "6a163424-62dd-4d15-bffa-ad25aca05ff3"
      },
      "execution_count": 1,
      "outputs": [
        {
          "output_type": "stream",
          "name": "stdout",
          "text": [
            "Cloning into 'models'...\n",
            "remote: Enumerating objects: 1345, done.\u001b[K\n",
            "remote: Counting objects: 100% (1345/1345), done.\u001b[K\n",
            "remote: Compressing objects: 100% (1128/1128), done.\u001b[K\n",
            "remote: Total 1345 (delta 363), reused 452 (delta 196), pack-reused 0\u001b[K\n",
            "Receiving objects: 100% (1345/1345), 1.96 MiB | 7.92 MiB/s, done.\n",
            "Resolving deltas: 100% (363/363), done.\n",
            "Note: checking out '14918e0246cc0b7601b4cd7307b3e969df718c65'.\n",
            "\n",
            "You are in 'detached HEAD' state. You can look around, make experimental\n",
            "changes and commit them, and you can discard any commits you make in this\n",
            "state without impacting any branches by performing another checkout.\n",
            "\n",
            "If you want to create a new branch to retain commits you create, you may\n",
            "do so (now or later) by using -b with the checkout command again. Example:\n",
            "\n",
            "  git checkout -b <new-branch-name>\n",
            "\n"
          ]
        }
      ]
    },
    {
      "cell_type": "markdown",
      "source": [
        "Installing requirements to use tensorflow/models repository"
      ],
      "metadata": {
        "id": "vi2cLGwnAdiJ"
      }
    },
    {
      "cell_type": "code",
      "source": [
        "!pip install -Uqr models/official/requirements.txt"
      ],
      "metadata": {
        "colab": {
          "base_uri": "https://localhost:8080/"
        },
        "id": "mrbIhw9WNJJu",
        "outputId": "11fab88c-1ff0-4e99-fa33-29d40a26ace9"
      },
      "execution_count": 2,
      "outputs": [
        {
          "output_type": "stream",
          "name": "stdout",
          "text": [
            "\u001b[K     |████████████████████████████████| 7.9 MB 6.5 MB/s \n",
            "\u001b[K     |████████████████████████████████| 15.7 MB 33.9 MB/s \n",
            "\u001b[K     |████████████████████████████████| 11.3 MB 33.4 MB/s \n",
            "\u001b[K     |████████████████████████████████| 296 kB 49.0 MB/s \n",
            "\u001b[K     |████████████████████████████████| 99 kB 8.0 MB/s \n",
            "\u001b[K     |████████████████████████████████| 38.1 MB 1.6 MB/s \n",
            "\u001b[K     |████████████████████████████████| 213 kB 49.7 MB/s \n",
            "\u001b[K     |████████████████████████████████| 4.0 MB 38.0 MB/s \n",
            "\u001b[K     |████████████████████████████████| 1.1 MB 45.4 MB/s \n",
            "\u001b[K     |████████████████████████████████| 352 kB 48.1 MB/s \n",
            "\u001b[K     |████████████████████████████████| 1.9 MB 38.6 MB/s \n",
            "\u001b[K     |████████████████████████████████| 11.2 MB 35.7 MB/s \n",
            "\u001b[K     |████████████████████████████████| 596 kB 50.8 MB/s \n",
            "\u001b[K     |████████████████████████████████| 47.7 MB 1.8 MB/s \n",
            "\u001b[K     |████████████████████████████████| 3.1 MB 36.1 MB/s \n",
            "\u001b[K     |████████████████████████████████| 43 kB 1.8 MB/s \n",
            "\u001b[K     |████████████████████████████████| 1.2 MB 40.0 MB/s \n",
            "\u001b[K     |████████████████████████████████| 90 kB 493 kB/s \n",
            "\u001b[K     |████████████████████████████████| 890 kB 51.3 MB/s \n",
            "\u001b[?25h  Building wheel for py-cpuinfo (setup.py) ... \u001b[?25l\u001b[?25hdone\n",
            "  Building wheel for seqeval (setup.py) ... \u001b[?25l\u001b[?25hdone\n",
            "\u001b[31mERROR: pip's dependency resolver does not currently take into account all the packages that are installed. This behaviour is the source of the following dependency conflicts.\n",
            "yellowbrick 1.3.post1 requires numpy<1.20,>=1.16.0, but you have numpy 1.21.5 which is incompatible.\n",
            "google-colab 1.0.0 requires pandas~=1.1.0; python_version >= \"3.0\", but you have pandas 1.3.5 which is incompatible.\n",
            "google-colab 1.0.0 requires six~=1.15.0, but you have six 1.16.0 which is incompatible.\n",
            "earthengine-api 0.1.290 requires google-api-python-client<2,>=1.12.1, but you have google-api-python-client 2.33.0 which is incompatible.\n",
            "datascience 0.10.6 requires folium==0.2.1, but you have folium 0.8.3 which is incompatible.\n",
            "albumentations 0.1.12 requires imgaug<0.2.7,>=0.2.5, but you have imgaug 0.2.9 which is incompatible.\u001b[0m\n"
          ]
        }
      ]
    },
    {
      "cell_type": "markdown",
      "source": [
        "**After installing requirements, restart the runtime. (Ctrl + M)**"
      ],
      "metadata": {
        "id": "W2IrLLNEDAtM"
      }
    },
    {
      "cell_type": "markdown",
      "source": [
        "Importing libraries"
      ],
      "metadata": {
        "id": "KV5ezo2ZAkjG"
      }
    },
    {
      "cell_type": "code",
      "source": [
        "import numpy as np\n",
        "import tensorflow as tf\n",
        "import tensorflow_hub as hub\n",
        "import sys\n",
        "sys.path.append('/content/models')\n",
        "from official.nlp.data import classifier_data_lib\n",
        "from official.nlp.bert import tokenization\n",
        "from official.nlp import optimization"
      ],
      "metadata": {
        "id": "ovI-S_EbNxTH"
      },
      "execution_count": 1,
      "outputs": []
    },
    {
      "cell_type": "code",
      "source": [
        "print(\"TF Version: \", tf.__version__)\n",
        "print(\"Eager mode: \", tf.executing_eagerly())\n",
        "print(\"Hub version: \", hub.__version__)\n",
        "print(\"GPU is\", \"available\" if tf.config.experimental.list_physical_devices(\"GPU\") else \"NOT AVAILABLE\")"
      ],
      "metadata": {
        "colab": {
          "base_uri": "https://localhost:8080/"
        },
        "id": "w8xzXNrZOqJa",
        "outputId": "0a08dd46-da38-418e-f591-b3c35b8a434b"
      },
      "execution_count": 2,
      "outputs": [
        {
          "output_type": "stream",
          "name": "stdout",
          "text": [
            "TF Version:  2.7.0\n",
            "Eager mode:  True\n",
            "Hub version:  0.12.0\n",
            "GPU is available\n"
          ]
        }
      ]
    },
    {
      "cell_type": "markdown",
      "source": [
        "Downloading datasets. One with fake news and other one with true news"
      ],
      "metadata": {
        "id": "oPj00b2pAukU"
      }
    },
    {
      "cell_type": "code",
      "source": [
        "import pandas as pd\n",
        "\n",
        "fake_data = pd.read_csv('/content/drive/MyDrive/News/Fake.csv')\n",
        "true_data = pd.read_csv('/content/drive/MyDrive/News/True.csv') \n",
        "true_data.shape, fake_data.shape"
      ],
      "metadata": {
        "colab": {
          "base_uri": "https://localhost:8080/"
        },
        "id": "5GDMg8QjOvQt",
        "outputId": "c406bf48-62fa-4538-e288-c2d34e008b17"
      },
      "execution_count": 3,
      "outputs": [
        {
          "output_type": "execute_result",
          "data": {
            "text/plain": [
              "((21417, 4), (23481, 4))"
            ]
          },
          "metadata": {},
          "execution_count": 3
        }
      ]
    },
    {
      "cell_type": "markdown",
      "source": [
        "Adding labels to the dataset"
      ],
      "metadata": {
        "id": "dhIBaksktVzv"
      }
    },
    {
      "cell_type": "code",
      "source": [
        "true_data['real'] = 1\n",
        "fake_data['real'] = 0"
      ],
      "metadata": {
        "id": "4gL0IPqpQaew"
      },
      "execution_count": 4,
      "outputs": []
    },
    {
      "cell_type": "code",
      "source": [
        "true_data.head()"
      ],
      "metadata": {
        "colab": {
          "base_uri": "https://localhost:8080/",
          "height": 206
        },
        "id": "Eb0K2ywlUWwT",
        "outputId": "00c1f378-c375-403e-9649-8dcc684c9fab"
      },
      "execution_count": 5,
      "outputs": [
        {
          "output_type": "execute_result",
          "data": {
            "text/html": [
              "\n",
              "  <div id=\"df-b2b8e241-ba92-4add-a13a-9835d14cb290\">\n",
              "    <div class=\"colab-df-container\">\n",
              "      <div>\n",
              "<style scoped>\n",
              "    .dataframe tbody tr th:only-of-type {\n",
              "        vertical-align: middle;\n",
              "    }\n",
              "\n",
              "    .dataframe tbody tr th {\n",
              "        vertical-align: top;\n",
              "    }\n",
              "\n",
              "    .dataframe thead th {\n",
              "        text-align: right;\n",
              "    }\n",
              "</style>\n",
              "<table border=\"1\" class=\"dataframe\">\n",
              "  <thead>\n",
              "    <tr style=\"text-align: right;\">\n",
              "      <th></th>\n",
              "      <th>title</th>\n",
              "      <th>text</th>\n",
              "      <th>subject</th>\n",
              "      <th>date</th>\n",
              "      <th>real</th>\n",
              "    </tr>\n",
              "  </thead>\n",
              "  <tbody>\n",
              "    <tr>\n",
              "      <th>0</th>\n",
              "      <td>As U.S. budget fight looms, Republicans flip t...</td>\n",
              "      <td>WASHINGTON (Reuters) - The head of a conservat...</td>\n",
              "      <td>politicsNews</td>\n",
              "      <td>December 31, 2017</td>\n",
              "      <td>1</td>\n",
              "    </tr>\n",
              "    <tr>\n",
              "      <th>1</th>\n",
              "      <td>U.S. military to accept transgender recruits o...</td>\n",
              "      <td>WASHINGTON (Reuters) - Transgender people will...</td>\n",
              "      <td>politicsNews</td>\n",
              "      <td>December 29, 2017</td>\n",
              "      <td>1</td>\n",
              "    </tr>\n",
              "    <tr>\n",
              "      <th>2</th>\n",
              "      <td>Senior U.S. Republican senator: 'Let Mr. Muell...</td>\n",
              "      <td>WASHINGTON (Reuters) - The special counsel inv...</td>\n",
              "      <td>politicsNews</td>\n",
              "      <td>December 31, 2017</td>\n",
              "      <td>1</td>\n",
              "    </tr>\n",
              "    <tr>\n",
              "      <th>3</th>\n",
              "      <td>FBI Russia probe helped by Australian diplomat...</td>\n",
              "      <td>WASHINGTON (Reuters) - Trump campaign adviser ...</td>\n",
              "      <td>politicsNews</td>\n",
              "      <td>December 30, 2017</td>\n",
              "      <td>1</td>\n",
              "    </tr>\n",
              "    <tr>\n",
              "      <th>4</th>\n",
              "      <td>Trump wants Postal Service to charge 'much mor...</td>\n",
              "      <td>SEATTLE/WASHINGTON (Reuters) - President Donal...</td>\n",
              "      <td>politicsNews</td>\n",
              "      <td>December 29, 2017</td>\n",
              "      <td>1</td>\n",
              "    </tr>\n",
              "  </tbody>\n",
              "</table>\n",
              "</div>\n",
              "      <button class=\"colab-df-convert\" onclick=\"convertToInteractive('df-b2b8e241-ba92-4add-a13a-9835d14cb290')\"\n",
              "              title=\"Convert this dataframe to an interactive table.\"\n",
              "              style=\"display:none;\">\n",
              "        \n",
              "  <svg xmlns=\"http://www.w3.org/2000/svg\" height=\"24px\"viewBox=\"0 0 24 24\"\n",
              "       width=\"24px\">\n",
              "    <path d=\"M0 0h24v24H0V0z\" fill=\"none\"/>\n",
              "    <path d=\"M18.56 5.44l.94 2.06.94-2.06 2.06-.94-2.06-.94-.94-2.06-.94 2.06-2.06.94zm-11 1L8.5 8.5l.94-2.06 2.06-.94-2.06-.94L8.5 2.5l-.94 2.06-2.06.94zm10 10l.94 2.06.94-2.06 2.06-.94-2.06-.94-.94-2.06-.94 2.06-2.06.94z\"/><path d=\"M17.41 7.96l-1.37-1.37c-.4-.4-.92-.59-1.43-.59-.52 0-1.04.2-1.43.59L10.3 9.45l-7.72 7.72c-.78.78-.78 2.05 0 2.83L4 21.41c.39.39.9.59 1.41.59.51 0 1.02-.2 1.41-.59l7.78-7.78 2.81-2.81c.8-.78.8-2.07 0-2.86zM5.41 20L4 18.59l7.72-7.72 1.47 1.35L5.41 20z\"/>\n",
              "  </svg>\n",
              "      </button>\n",
              "      \n",
              "  <style>\n",
              "    .colab-df-container {\n",
              "      display:flex;\n",
              "      flex-wrap:wrap;\n",
              "      gap: 12px;\n",
              "    }\n",
              "\n",
              "    .colab-df-convert {\n",
              "      background-color: #E8F0FE;\n",
              "      border: none;\n",
              "      border-radius: 50%;\n",
              "      cursor: pointer;\n",
              "      display: none;\n",
              "      fill: #1967D2;\n",
              "      height: 32px;\n",
              "      padding: 0 0 0 0;\n",
              "      width: 32px;\n",
              "    }\n",
              "\n",
              "    .colab-df-convert:hover {\n",
              "      background-color: #E2EBFA;\n",
              "      box-shadow: 0px 1px 2px rgba(60, 64, 67, 0.3), 0px 1px 3px 1px rgba(60, 64, 67, 0.15);\n",
              "      fill: #174EA6;\n",
              "    }\n",
              "\n",
              "    [theme=dark] .colab-df-convert {\n",
              "      background-color: #3B4455;\n",
              "      fill: #D2E3FC;\n",
              "    }\n",
              "\n",
              "    [theme=dark] .colab-df-convert:hover {\n",
              "      background-color: #434B5C;\n",
              "      box-shadow: 0px 1px 3px 1px rgba(0, 0, 0, 0.15);\n",
              "      filter: drop-shadow(0px 1px 2px rgba(0, 0, 0, 0.3));\n",
              "      fill: #FFFFFF;\n",
              "    }\n",
              "  </style>\n",
              "\n",
              "      <script>\n",
              "        const buttonEl =\n",
              "          document.querySelector('#df-b2b8e241-ba92-4add-a13a-9835d14cb290 button.colab-df-convert');\n",
              "        buttonEl.style.display =\n",
              "          google.colab.kernel.accessAllowed ? 'block' : 'none';\n",
              "\n",
              "        async function convertToInteractive(key) {\n",
              "          const element = document.querySelector('#df-b2b8e241-ba92-4add-a13a-9835d14cb290');\n",
              "          const dataTable =\n",
              "            await google.colab.kernel.invokeFunction('convertToInteractive',\n",
              "                                                     [key], {});\n",
              "          if (!dataTable) return;\n",
              "\n",
              "          const docLinkHtml = 'Like what you see? Visit the ' +\n",
              "            '<a target=\"_blank\" href=https://colab.research.google.com/notebooks/data_table.ipynb>data table notebook</a>'\n",
              "            + ' to learn more about interactive tables.';\n",
              "          element.innerHTML = '';\n",
              "          dataTable['output_type'] = 'display_data';\n",
              "          await google.colab.output.renderOutput(dataTable, element);\n",
              "          const docLink = document.createElement('div');\n",
              "          docLink.innerHTML = docLinkHtml;\n",
              "          element.appendChild(docLink);\n",
              "        }\n",
              "      </script>\n",
              "    </div>\n",
              "  </div>\n",
              "  "
            ],
            "text/plain": [
              "                                               title  ... real\n",
              "0  As U.S. budget fight looms, Republicans flip t...  ...    1\n",
              "1  U.S. military to accept transgender recruits o...  ...    1\n",
              "2  Senior U.S. Republican senator: 'Let Mr. Muell...  ...    1\n",
              "3  FBI Russia probe helped by Australian diplomat...  ...    1\n",
              "4  Trump wants Postal Service to charge 'much mor...  ...    1\n",
              "\n",
              "[5 rows x 5 columns]"
            ]
          },
          "metadata": {},
          "execution_count": 5
        }
      ]
    },
    {
      "cell_type": "code",
      "source": [
        "fake_data.head()"
      ],
      "metadata": {
        "colab": {
          "base_uri": "https://localhost:8080/",
          "height": 206
        },
        "id": "fRreqALNUa7m",
        "outputId": "8f883ea2-7722-4842-cc3d-a8a285610ab8"
      },
      "execution_count": 6,
      "outputs": [
        {
          "output_type": "execute_result",
          "data": {
            "text/html": [
              "\n",
              "  <div id=\"df-7f6ec101-9c65-4f8d-978e-1891dce58431\">\n",
              "    <div class=\"colab-df-container\">\n",
              "      <div>\n",
              "<style scoped>\n",
              "    .dataframe tbody tr th:only-of-type {\n",
              "        vertical-align: middle;\n",
              "    }\n",
              "\n",
              "    .dataframe tbody tr th {\n",
              "        vertical-align: top;\n",
              "    }\n",
              "\n",
              "    .dataframe thead th {\n",
              "        text-align: right;\n",
              "    }\n",
              "</style>\n",
              "<table border=\"1\" class=\"dataframe\">\n",
              "  <thead>\n",
              "    <tr style=\"text-align: right;\">\n",
              "      <th></th>\n",
              "      <th>title</th>\n",
              "      <th>text</th>\n",
              "      <th>subject</th>\n",
              "      <th>date</th>\n",
              "      <th>real</th>\n",
              "    </tr>\n",
              "  </thead>\n",
              "  <tbody>\n",
              "    <tr>\n",
              "      <th>0</th>\n",
              "      <td>Donald Trump Sends Out Embarrassing New Year’...</td>\n",
              "      <td>Donald Trump just couldn t wish all Americans ...</td>\n",
              "      <td>News</td>\n",
              "      <td>December 31, 2017</td>\n",
              "      <td>0</td>\n",
              "    </tr>\n",
              "    <tr>\n",
              "      <th>1</th>\n",
              "      <td>Drunk Bragging Trump Staffer Started Russian ...</td>\n",
              "      <td>House Intelligence Committee Chairman Devin Nu...</td>\n",
              "      <td>News</td>\n",
              "      <td>December 31, 2017</td>\n",
              "      <td>0</td>\n",
              "    </tr>\n",
              "    <tr>\n",
              "      <th>2</th>\n",
              "      <td>Sheriff David Clarke Becomes An Internet Joke...</td>\n",
              "      <td>On Friday, it was revealed that former Milwauk...</td>\n",
              "      <td>News</td>\n",
              "      <td>December 30, 2017</td>\n",
              "      <td>0</td>\n",
              "    </tr>\n",
              "    <tr>\n",
              "      <th>3</th>\n",
              "      <td>Trump Is So Obsessed He Even Has Obama’s Name...</td>\n",
              "      <td>On Christmas day, Donald Trump announced that ...</td>\n",
              "      <td>News</td>\n",
              "      <td>December 29, 2017</td>\n",
              "      <td>0</td>\n",
              "    </tr>\n",
              "    <tr>\n",
              "      <th>4</th>\n",
              "      <td>Pope Francis Just Called Out Donald Trump Dur...</td>\n",
              "      <td>Pope Francis used his annual Christmas Day mes...</td>\n",
              "      <td>News</td>\n",
              "      <td>December 25, 2017</td>\n",
              "      <td>0</td>\n",
              "    </tr>\n",
              "  </tbody>\n",
              "</table>\n",
              "</div>\n",
              "      <button class=\"colab-df-convert\" onclick=\"convertToInteractive('df-7f6ec101-9c65-4f8d-978e-1891dce58431')\"\n",
              "              title=\"Convert this dataframe to an interactive table.\"\n",
              "              style=\"display:none;\">\n",
              "        \n",
              "  <svg xmlns=\"http://www.w3.org/2000/svg\" height=\"24px\"viewBox=\"0 0 24 24\"\n",
              "       width=\"24px\">\n",
              "    <path d=\"M0 0h24v24H0V0z\" fill=\"none\"/>\n",
              "    <path d=\"M18.56 5.44l.94 2.06.94-2.06 2.06-.94-2.06-.94-.94-2.06-.94 2.06-2.06.94zm-11 1L8.5 8.5l.94-2.06 2.06-.94-2.06-.94L8.5 2.5l-.94 2.06-2.06.94zm10 10l.94 2.06.94-2.06 2.06-.94-2.06-.94-.94-2.06-.94 2.06-2.06.94z\"/><path d=\"M17.41 7.96l-1.37-1.37c-.4-.4-.92-.59-1.43-.59-.52 0-1.04.2-1.43.59L10.3 9.45l-7.72 7.72c-.78.78-.78 2.05 0 2.83L4 21.41c.39.39.9.59 1.41.59.51 0 1.02-.2 1.41-.59l7.78-7.78 2.81-2.81c.8-.78.8-2.07 0-2.86zM5.41 20L4 18.59l7.72-7.72 1.47 1.35L5.41 20z\"/>\n",
              "  </svg>\n",
              "      </button>\n",
              "      \n",
              "  <style>\n",
              "    .colab-df-container {\n",
              "      display:flex;\n",
              "      flex-wrap:wrap;\n",
              "      gap: 12px;\n",
              "    }\n",
              "\n",
              "    .colab-df-convert {\n",
              "      background-color: #E8F0FE;\n",
              "      border: none;\n",
              "      border-radius: 50%;\n",
              "      cursor: pointer;\n",
              "      display: none;\n",
              "      fill: #1967D2;\n",
              "      height: 32px;\n",
              "      padding: 0 0 0 0;\n",
              "      width: 32px;\n",
              "    }\n",
              "\n",
              "    .colab-df-convert:hover {\n",
              "      background-color: #E2EBFA;\n",
              "      box-shadow: 0px 1px 2px rgba(60, 64, 67, 0.3), 0px 1px 3px 1px rgba(60, 64, 67, 0.15);\n",
              "      fill: #174EA6;\n",
              "    }\n",
              "\n",
              "    [theme=dark] .colab-df-convert {\n",
              "      background-color: #3B4455;\n",
              "      fill: #D2E3FC;\n",
              "    }\n",
              "\n",
              "    [theme=dark] .colab-df-convert:hover {\n",
              "      background-color: #434B5C;\n",
              "      box-shadow: 0px 1px 3px 1px rgba(0, 0, 0, 0.15);\n",
              "      filter: drop-shadow(0px 1px 2px rgba(0, 0, 0, 0.3));\n",
              "      fill: #FFFFFF;\n",
              "    }\n",
              "  </style>\n",
              "\n",
              "      <script>\n",
              "        const buttonEl =\n",
              "          document.querySelector('#df-7f6ec101-9c65-4f8d-978e-1891dce58431 button.colab-df-convert');\n",
              "        buttonEl.style.display =\n",
              "          google.colab.kernel.accessAllowed ? 'block' : 'none';\n",
              "\n",
              "        async function convertToInteractive(key) {\n",
              "          const element = document.querySelector('#df-7f6ec101-9c65-4f8d-978e-1891dce58431');\n",
              "          const dataTable =\n",
              "            await google.colab.kernel.invokeFunction('convertToInteractive',\n",
              "                                                     [key], {});\n",
              "          if (!dataTable) return;\n",
              "\n",
              "          const docLinkHtml = 'Like what you see? Visit the ' +\n",
              "            '<a target=\"_blank\" href=https://colab.research.google.com/notebooks/data_table.ipynb>data table notebook</a>'\n",
              "            + ' to learn more about interactive tables.';\n",
              "          element.innerHTML = '';\n",
              "          dataTable['output_type'] = 'display_data';\n",
              "          await google.colab.output.renderOutput(dataTable, element);\n",
              "          const docLink = document.createElement('div');\n",
              "          docLink.innerHTML = docLinkHtml;\n",
              "          element.appendChild(docLink);\n",
              "        }\n",
              "      </script>\n",
              "    </div>\n",
              "  </div>\n",
              "  "
            ],
            "text/plain": [
              "                                               title  ... real\n",
              "0   Donald Trump Sends Out Embarrassing New Year’...  ...    0\n",
              "1   Drunk Bragging Trump Staffer Started Russian ...  ...    0\n",
              "2   Sheriff David Clarke Becomes An Internet Joke...  ...    0\n",
              "3   Trump Is So Obsessed He Even Has Obama’s Name...  ...    0\n",
              "4   Pope Francis Just Called Out Donald Trump Dur...  ...    0\n",
              "\n",
              "[5 rows x 5 columns]"
            ]
          },
          "metadata": {},
          "execution_count": 6
        }
      ]
    },
    {
      "cell_type": "markdown",
      "source": [
        "Shuffling fake and real news"
      ],
      "metadata": {
        "id": "U4IK9uzrtfvf"
      }
    },
    {
      "cell_type": "code",
      "source": [
        "from sklearn.utils import shuffle\n",
        "\n",
        "data = pd.concat([true_data, fake_data])\n",
        "\n",
        "# Shuffle the data\n",
        "data = shuffle(data).reset_index(drop=True)"
      ],
      "metadata": {
        "id": "07xUgTFDUeRx"
      },
      "execution_count": 7,
      "outputs": []
    },
    {
      "cell_type": "code",
      "source": [
        "data.head(10)"
      ],
      "metadata": {
        "id": "O6KITStNU3lT",
        "outputId": "7b36970f-252a-42d7-c9c4-d17271c8ce9a",
        "colab": {
          "base_uri": "https://localhost:8080/",
          "height": 363
        }
      },
      "execution_count": 8,
      "outputs": [
        {
          "output_type": "execute_result",
          "data": {
            "text/html": [
              "\n",
              "  <div id=\"df-a3f53735-fc53-4048-a123-75b4c5b9a0a8\">\n",
              "    <div class=\"colab-df-container\">\n",
              "      <div>\n",
              "<style scoped>\n",
              "    .dataframe tbody tr th:only-of-type {\n",
              "        vertical-align: middle;\n",
              "    }\n",
              "\n",
              "    .dataframe tbody tr th {\n",
              "        vertical-align: top;\n",
              "    }\n",
              "\n",
              "    .dataframe thead th {\n",
              "        text-align: right;\n",
              "    }\n",
              "</style>\n",
              "<table border=\"1\" class=\"dataframe\">\n",
              "  <thead>\n",
              "    <tr style=\"text-align: right;\">\n",
              "      <th></th>\n",
              "      <th>title</th>\n",
              "      <th>text</th>\n",
              "      <th>subject</th>\n",
              "      <th>date</th>\n",
              "      <th>real</th>\n",
              "    </tr>\n",
              "  </thead>\n",
              "  <tbody>\n",
              "    <tr>\n",
              "      <th>0</th>\n",
              "      <td>Trump's team seeks top-secret clearance for hi...</td>\n",
              "      <td>WASHINGTON (Reuters) - Republican President-el...</td>\n",
              "      <td>politicsNews</td>\n",
              "      <td>November 14, 2016</td>\n",
              "      <td>1</td>\n",
              "    </tr>\n",
              "    <tr>\n",
              "      <th>1</th>\n",
              "      <td>Greece overcomes forestry setback to develop A...</td>\n",
              "      <td>ATHENS (Reuters) - Greece has won an appeal ov...</td>\n",
              "      <td>worldnews</td>\n",
              "      <td>October 3, 2017</td>\n",
              "      <td>1</td>\n",
              "    </tr>\n",
              "    <tr>\n",
              "      <th>2</th>\n",
              "      <td>French Journalist Hit With Huge Fine For “Inci...</td>\n",
              "      <td>Americans should pay close attention to this s...</td>\n",
              "      <td>politics</td>\n",
              "      <td>Dec 23, 2015</td>\n",
              "      <td>0</td>\n",
              "    </tr>\n",
              "    <tr>\n",
              "      <th>3</th>\n",
              "      <td>Senator Delivers SCATHING Rebuke To His GOP C...</td>\n",
              "      <td>It s been a tragic, but infuriating day for Am...</td>\n",
              "      <td>News</td>\n",
              "      <td>November 5, 2017</td>\n",
              "      <td>0</td>\n",
              "    </tr>\n",
              "    <tr>\n",
              "      <th>4</th>\n",
              "      <td>Donald Trump Sports New Hairdo In Son’s Insta...</td>\n",
              "      <td>If there s one thing that has always remained ...</td>\n",
              "      <td>News</td>\n",
              "      <td>January 5, 2017</td>\n",
              "      <td>0</td>\n",
              "    </tr>\n",
              "    <tr>\n",
              "      <th>5</th>\n",
              "      <td>KEY TRUMP ADVISOR: ELTON JOHN Will Perform At ...</td>\n",
              "      <td>Elton John will perform at Donald Trump s inau...</td>\n",
              "      <td>politics</td>\n",
              "      <td>Nov 23, 2016</td>\n",
              "      <td>0</td>\n",
              "    </tr>\n",
              "    <tr>\n",
              "      <th>6</th>\n",
              "      <td>Palin's endorsement fails to excite Trump rall...</td>\n",
              "      <td>NORWALK, Iowa (Reuters) - When it comes to inf...</td>\n",
              "      <td>politicsNews</td>\n",
              "      <td>January 20, 2016</td>\n",
              "      <td>1</td>\n",
              "    </tr>\n",
              "    <tr>\n",
              "      <th>7</th>\n",
              "      <td>LOOK WHO Approved Visas For Russian Operatives...</td>\n",
              "      <td>According to Fox News  A federal grand jury on...</td>\n",
              "      <td>politics</td>\n",
              "      <td>16-Feb-18</td>\n",
              "      <td>0</td>\n",
              "    </tr>\n",
              "    <tr>\n",
              "      <th>8</th>\n",
              "      <td>Saudi-led coalition to allow cranes into Yemen...</td>\n",
              "      <td>DUBAI (Reuters) - The Saudi-led coalition will...</td>\n",
              "      <td>worldnews</td>\n",
              "      <td>December 20, 2017</td>\n",
              "      <td>1</td>\n",
              "    </tr>\n",
              "    <tr>\n",
              "      <th>9</th>\n",
              "      <td>WATCH: PRESIDENT TRUMP CHANNELS Successful Dev...</td>\n",
              "      <td>WASHINGTON   President Trump said on Thursday ...</td>\n",
              "      <td>left-news</td>\n",
              "      <td>Dec 14, 2017</td>\n",
              "      <td>0</td>\n",
              "    </tr>\n",
              "  </tbody>\n",
              "</table>\n",
              "</div>\n",
              "      <button class=\"colab-df-convert\" onclick=\"convertToInteractive('df-a3f53735-fc53-4048-a123-75b4c5b9a0a8')\"\n",
              "              title=\"Convert this dataframe to an interactive table.\"\n",
              "              style=\"display:none;\">\n",
              "        \n",
              "  <svg xmlns=\"http://www.w3.org/2000/svg\" height=\"24px\"viewBox=\"0 0 24 24\"\n",
              "       width=\"24px\">\n",
              "    <path d=\"M0 0h24v24H0V0z\" fill=\"none\"/>\n",
              "    <path d=\"M18.56 5.44l.94 2.06.94-2.06 2.06-.94-2.06-.94-.94-2.06-.94 2.06-2.06.94zm-11 1L8.5 8.5l.94-2.06 2.06-.94-2.06-.94L8.5 2.5l-.94 2.06-2.06.94zm10 10l.94 2.06.94-2.06 2.06-.94-2.06-.94-.94-2.06-.94 2.06-2.06.94z\"/><path d=\"M17.41 7.96l-1.37-1.37c-.4-.4-.92-.59-1.43-.59-.52 0-1.04.2-1.43.59L10.3 9.45l-7.72 7.72c-.78.78-.78 2.05 0 2.83L4 21.41c.39.39.9.59 1.41.59.51 0 1.02-.2 1.41-.59l7.78-7.78 2.81-2.81c.8-.78.8-2.07 0-2.86zM5.41 20L4 18.59l7.72-7.72 1.47 1.35L5.41 20z\"/>\n",
              "  </svg>\n",
              "      </button>\n",
              "      \n",
              "  <style>\n",
              "    .colab-df-container {\n",
              "      display:flex;\n",
              "      flex-wrap:wrap;\n",
              "      gap: 12px;\n",
              "    }\n",
              "\n",
              "    .colab-df-convert {\n",
              "      background-color: #E8F0FE;\n",
              "      border: none;\n",
              "      border-radius: 50%;\n",
              "      cursor: pointer;\n",
              "      display: none;\n",
              "      fill: #1967D2;\n",
              "      height: 32px;\n",
              "      padding: 0 0 0 0;\n",
              "      width: 32px;\n",
              "    }\n",
              "\n",
              "    .colab-df-convert:hover {\n",
              "      background-color: #E2EBFA;\n",
              "      box-shadow: 0px 1px 2px rgba(60, 64, 67, 0.3), 0px 1px 3px 1px rgba(60, 64, 67, 0.15);\n",
              "      fill: #174EA6;\n",
              "    }\n",
              "\n",
              "    [theme=dark] .colab-df-convert {\n",
              "      background-color: #3B4455;\n",
              "      fill: #D2E3FC;\n",
              "    }\n",
              "\n",
              "    [theme=dark] .colab-df-convert:hover {\n",
              "      background-color: #434B5C;\n",
              "      box-shadow: 0px 1px 3px 1px rgba(0, 0, 0, 0.15);\n",
              "      filter: drop-shadow(0px 1px 2px rgba(0, 0, 0, 0.3));\n",
              "      fill: #FFFFFF;\n",
              "    }\n",
              "  </style>\n",
              "\n",
              "      <script>\n",
              "        const buttonEl =\n",
              "          document.querySelector('#df-a3f53735-fc53-4048-a123-75b4c5b9a0a8 button.colab-df-convert');\n",
              "        buttonEl.style.display =\n",
              "          google.colab.kernel.accessAllowed ? 'block' : 'none';\n",
              "\n",
              "        async function convertToInteractive(key) {\n",
              "          const element = document.querySelector('#df-a3f53735-fc53-4048-a123-75b4c5b9a0a8');\n",
              "          const dataTable =\n",
              "            await google.colab.kernel.invokeFunction('convertToInteractive',\n",
              "                                                     [key], {});\n",
              "          if (!dataTable) return;\n",
              "\n",
              "          const docLinkHtml = 'Like what you see? Visit the ' +\n",
              "            '<a target=\"_blank\" href=https://colab.research.google.com/notebooks/data_table.ipynb>data table notebook</a>'\n",
              "            + ' to learn more about interactive tables.';\n",
              "          element.innerHTML = '';\n",
              "          dataTable['output_type'] = 'display_data';\n",
              "          await google.colab.output.renderOutput(dataTable, element);\n",
              "          const docLink = document.createElement('div');\n",
              "          docLink.innerHTML = docLinkHtml;\n",
              "          element.appendChild(docLink);\n",
              "        }\n",
              "      </script>\n",
              "    </div>\n",
              "  </div>\n",
              "  "
            ],
            "text/plain": [
              "                                               title  ... real\n",
              "0  Trump's team seeks top-secret clearance for hi...  ...    1\n",
              "1  Greece overcomes forestry setback to develop A...  ...    1\n",
              "2  French Journalist Hit With Huge Fine For “Inci...  ...    0\n",
              "3   Senator Delivers SCATHING Rebuke To His GOP C...  ...    0\n",
              "4   Donald Trump Sports New Hairdo In Son’s Insta...  ...    0\n",
              "5  KEY TRUMP ADVISOR: ELTON JOHN Will Perform At ...  ...    0\n",
              "6  Palin's endorsement fails to excite Trump rall...  ...    1\n",
              "7  LOOK WHO Approved Visas For Russian Operatives...  ...    0\n",
              "8  Saudi-led coalition to allow cranes into Yemen...  ...    1\n",
              "9  WATCH: PRESIDENT TRUMP CHANNELS Successful Dev...  ...    0\n",
              "\n",
              "[10 rows x 5 columns]"
            ]
          },
          "metadata": {},
          "execution_count": 8
        }
      ]
    },
    {
      "cell_type": "markdown",
      "source": [
        "Splitting dataset into train, validation and test sets"
      ],
      "metadata": {
        "id": "Ma39DfqUtm9t"
      }
    },
    {
      "cell_type": "code",
      "source": [
        "from sklearn.model_selection import train_test_split\n",
        "\n",
        "train_data, remaining = train_test_split(data, random_state=42, train_size=0.7, stratify=data.real.values)\n",
        "valid_data, test_data = train_test_split(remaining, random_state=42, train_size=0.25, stratify=remaining.real.values)\n",
        "train_data.shape, valid_data.shape, test_data.shape"
      ],
      "metadata": {
        "colab": {
          "base_uri": "https://localhost:8080/"
        },
        "id": "HciD-HQhVI5U",
        "outputId": "724639c4-9aa5-4988-dd7a-6e4ac723fdc0"
      },
      "execution_count": 9,
      "outputs": [
        {
          "output_type": "execute_result",
          "data": {
            "text/plain": [
              "((31428, 5), (3367, 5), (10103, 5))"
            ]
          },
          "metadata": {},
          "execution_count": 9
        }
      ]
    },
    {
      "cell_type": "markdown",
      "source": [
        "Creating dataset consisting only from text and labels with use of TensorFlow methods"
      ],
      "metadata": {
        "id": "sfdBSIJEtytR"
      }
    },
    {
      "cell_type": "code",
      "source": [
        "with tf.device('/cpu:0'):\n",
        "  train_data = tf.data.Dataset.from_tensor_slices((train_data['text'].values, train_data['real'].values))\n",
        "  valid_data = tf.data.Dataset.from_tensor_slices((valid_data['text'].values, valid_data['real'].values))\n",
        "\n",
        "  for text, label in train_data.take(10):\n",
        "    print(text)\n",
        "    print(label)"
      ],
      "metadata": {
        "colab": {
          "base_uri": "https://localhost:8080/"
        },
        "id": "fxGlWQfzdkJ5",
        "outputId": "4c308b65-463e-481d-b4d3-405cf82a0186"
      },
      "execution_count": 10,
      "outputs": [
        {
          "output_type": "stream",
          "name": "stdout",
          "text": [
            "tf.Tensor(b'Lefty losers  ', shape=(), dtype=string)\n",
            "tf.Tensor(0, shape=(), dtype=int64)\n",
            "tf.Tensor(b'The LGBT Mafia and PC Police doing what they do best shaming Americans and businesses into conformity. Does anyone have the courage or fortitude to fight back, or are we just going to allow these PC thugs to strip our children of the genders God clearly assigned to each of us? Target Corp. is removing gender labels from most of its children s departments after customers complained about signs designating certain toys for girls.The kids  bedding section will no longer feature boy and girl signage, and the toy department will be without labels and pink or blue paper on the shelves, Minneapolis-based Target said on its website Friday. Gender labels will remain in the kids  clothing section because of sizing and fit differences.Retailers have been moving away from gender stereotypes, and some startups have emerged to break down the divide in kids  clothing and toys. The signage that sparked the dispute at Target was for building sets, like GoldieBlox, that are targeted at girls.  As guests have pointed out, in some departments like toys, home or entertainment, suggesting products by gender is unnecessary,  Target said.  We heard you, and we agree. Right now, our teams are working across the store to identify areas where we can phase out gender-based signage to help strike a better balance. In June, Ohio mom Abi Bechtel called out Target s gender designations in its toy aisle. She posted a photo to Twitter that showed store signs for  Girls  Building Sets  next to regular  Building Sets.  The outcry was swift, with angry shoppers calling for change. It stood out to me as a good example of the way our culture tends to view boys and men as the default, normal option and girls and women as the specialized option,  Bechtel told CNN at the time.Via: Bloomberg', shape=(), dtype=string)\n",
            "tf.Tensor(0, shape=(), dtype=int64)\n",
            "tf.Tensor(b'As time goes on, it becomes ever clearer that Trump is Russia s puppet. There s every possibility he owes them money, and he s repeatedly blasted our intelligence community for daring to say that Russia did, indeed, engage in a concerted campaign to influence our election in Trump s favor. But did he always feel this way? Was he always Russia s puppet?It seems not, and it s by his own words that we know this. As recently as 2014, he said, in a series of interviews, that Mitt Romney was right to say that Russia was our greatest geopolitical foe: [Mitt] said [Russia is] a hell of a problem, and everybody laughed at him, including certain media, by the way. They laughed. It turned out that he s absolutely right. You look at what Russia s doing with Iran, how they controlled the situation, and Syria, and virtually every other place. He also insinuated that Obama was Putin s puppet because he felt we being meek and cowardly in the face of such a threat. We should definitely be strong, we should definitely do sanctions, and we have to show some strength. I mean, Putin has eaten Obama s lunch, therefore our lunch, for a long period of time. Now he says he s open to lifting our sanctions on Russia if we can all just get along, which is never going to happen because Russia is ruled by an autocrat. If we lift the sanctions, Russia will pull Trump s puppet strings even more. He also seems to like to kiss Putin s ass, mouth, and dick   he doesn t criticize Russia at all, and staunchly defends them against other criticisms and revelations.Here s his stance back in 2014:In other words, this is another position on which he s flip-flopped. He just says whatever his strongest manhandlers want him to say. Whether they re his supporters, or foreign powers hoping to use him for their own gain, he says whatever he thinks will win him the most points.Featured image by Spencer Platt via Getty Images', shape=(), dtype=string)\n",
            "tf.Tensor(0, shape=(), dtype=int64)\n",
            "tf.Tensor(b'As Republicans unite around GOP candidate Donald Trump, all hope seems to be lost for the  Never Trump  camp.But Republican strategist, commentator and neoconservative Bill Kristol may have just revived the  Never Trump  camp with one tweet:Just a heads up over this holiday weekend: There will be an independent candidate an impressive one, with a strong team and a real chance.  Bill Kristol (@BillKristol) May 29, 2016Although Kristol has in no way hinted at who that candidate may be, one can assume it could be from a shortlist of conservatives who have been openly hostile to Trump: Senator Ben Sasse of Nebraska, former presidential candidate Mitt Romney, Governor of New Mexico Susana Martinez, or perhaps Kristol himself.Should a conservative  Independent  run against Donald Trump, such a move would all but ensure a Clinton victory. A split GOP would pave the way for not only a Democratic takeover of the White House, but the GOP would suffer badly in their vulnerable Senate elections, and Democrats could very well take back the House.Simply put, Republicans putting in a third party candidate would be the revolution Sanders and Trump have been talking about all along, and neither would benefit much from it.It s amazing that Republicans haven t learned their lesson from the last two elections   that a last minute effort to add pizzazz to an election never bodes well for their end game. They learned that when McCain tried to pander to women with Sarah Palin in 2008, and they learned that in 2012 when they tried to entice business Republicans with Mitt Romney.Perhaps this third party candidate, aside from Gary Johnson of the Libertarian Party, could have a real representation by the electorate, sending a strong message to the GOP that their flirtation with right-wing extremism needs to come to an end once and for all.Maybe that was the GOP s end game after all   put the final nail into the coffin that is extremism and start anew, because with America s growing diversity, they won t last long cow towing to the crazies.Featured image via George Frey/Getty Images', shape=(), dtype=string)\n",
            "tf.Tensor(0, shape=(), dtype=int64)\n",
            "tf.Tensor(b'WASHINGTON (Reuters) - U.S. Republican presidential candidate Marco Rubio\\xe2\\x80\\x99s campaign urged a tactical vote against party front-runner Donald Trump on Friday, saying Rubio supporters in Ohio should vote for the state\\xe2\\x80\\x99s governor, John Kasich, next week. Ohio is one of five states holding Republican primary contests on March 15.  \\xe2\\x80\\x9cIf you\\xe2\\x80\\x99re a Republican primary voter in Ohio, and you don\\xe2\\x80\\x99t want Donald Trump to be the nominee, John Kasich is your best bet,\\xe2\\x80\\x9d Rubio spokesman Alex Conant told CNN in an interview. \\xe2\\x80\\x9cIf you\\xe2\\x80\\x99re a Republican primary voter here in Florida and you don\\xe2\\x80\\x99t want Donald Trump to be your nominee, Marco Rubio is your best bet. That is indisputable,\\xe2\\x80\\x9d he added, referring to the U.S. senator\\xe2\\x80\\x99s home state. Rubio, Kasich and Ted Cruz, a U.S. senator from Texas, are battling to stop Trump from winning the nomination to represent the party in the Nov. 8 presidential election.  Some Republicans, most notably 2012 Republican nominee Mitt Romney, have urged conservatives who oppose Trump to vote for which ever alternative candidate is most likely to win certain states in the upcoming primary contests.  (Reporting by Susan Heavey and Tim Ahmann; Editing by Frances Kerry) This article was funded in part by SAP. It was independently created by the Reuters editorial staff. SAP had no editorial involvement in its creation or production.', shape=(), dtype=string)\n",
            "tf.Tensor(1, shape=(), dtype=int64)\n",
            "tf.Tensor(b'If you ve been hiding under your bed since Donald Trump threatened North Korea with  fire and fury unlike the world has ever seen,  grab something hard (a drink, a prescription, a rock) and go into your basement for this one. Trump says his words weren t strong enough. Maybe it wasn t tough enough,  the president told reporters on Thursday at his golf club in Bedminster, N.J.  It s about time someone stuck up for the people of our country. Source: PoliticoNorth Korea s leader, Kim Jong Un, the other petulant man-child in this pissing match, hasn t yet responded, but he has twice, as a response to Trump s  fire and fury  threat, threatened to nuke Guam.The intelligence community believes that North Korea has developed a miniaturized nuclear warhead that is small enough to fit into a long-range missile, leading to speculation that if Kim John Un wanted to attack the United States, he could.Even Trump s own White House is conflicted on how to handle it, though. Secretary of State Rex Tillerson has tried to mitigate Trump s irresponsible and irrational threat. Nothing that I have seen and nothing that I know of would indicate that the situation has dramatically changed in the last 24 hours,  he said, adding that  Americans should sleep well at night. But he also defended Trump s comments. I think what the President was doing was sending a strong message to North Korea in language that Kim Jong Un would understand, because he doesn t seem to understand diplomatic language,  Tillerson said. Source: CNNTrump advisor Sebastion Gorka quickly refuted Tillerson, saying: You should listen to the president; the idea that Secretary Tillerson is going to discuss military matters is simply nonsensical,  Gorka said in a recording shared with The Washington Post.  It is the job of Secretary Mattis, the secretary of defense, to talk about the military options, and he has done so unequivocally. He said,  Woe betide anyone who militarily challenges the United States,  and that is his portfolio. That is his mandate. Secretary Tillerson is the chief diplomat of the United States, and it is his portfolio to handle those issues. Mattis is hoping for diplomacy, but he s ready to go to war at any moment.Even if Trump is blowing smoke up Kim Jong Un s posterior, this is a dangerous line of talk, especially when dealing with a mentally unstable narcissist with daddy issues. Then we have to worry about North Korea.Read more:Featured image via Pool/Getty Images', shape=(), dtype=string)\n",
            "tf.Tensor(0, shape=(), dtype=int64)\n",
            "tf.Tensor(b'PARIS (Reuters) - French President Emmanuel Macron on Tuesday said he deliberately laid out his vision for sweeping European Union reforms just after Germany s election and before coalition talks there are concluded in order for his proposals to have more influence.  Some had said I should wait for the coalition talks to be concluded,  Macron said, adding that had he done so, the reaction in Berlin would have been:  Your proposals are great but it s too late, the coalition deal already lays out what will we do on Europe for the next four years.         ', shape=(), dtype=string)\n",
            "tf.Tensor(1, shape=(), dtype=int64)\n",
            "tf.Tensor(b'Donald Trump bit off a bit more than he could chew when he attempted to shoot some venom at New Zealand s newly-elected Prime Minister Jacinda Ardern during their first in-person meeting at the East Asia Summit last week.When Trump told her that her victory had  upset  citizens in her country, she hit back and his oranges testes shriveled up instantly. This lady caused a lot of upset in her country,  Trump reportedly told a person standing next to Ardern, promopting her to reply: No one marched when I was elected. She s correct. While Trump s inauguration failed to bring out supporters, marches across the nation in opposition of The Donald continued long after his election.Ardern says Trump  laughed  at her joke, but also reflected that it could have been taken in a very particular way. However Trump took it, he wasn t able to complete his traditional  power handshake  that has been embarrassing the country since his election. Ardern describes their handshake as  standard,  meaning Trump didn t try to yank her arm out of its socket as per usual.What s that word conservatives like to use and misuse? Oh, yes   Trump just got  cucked. ', shape=(), dtype=string)\n",
            "tf.Tensor(0, shape=(), dtype=int64)\n",
            "tf.Tensor(b'WASHINGTON/BEIJING (Reuters) - Chinese efforts to persuade North Korea to rein in its nuclear program have failed, President Donald Trump said on Tuesday, ratcheting up the rhetoric over the death of an American student who had been detained by Pyongyang. Trump has held high hopes for greater cooperation from China to exert influence over North Korea, leaning heavily on Chinese President Xi Jinping for his assistance. The two leaders had a high-profile summit in Florida in April and Trump has frequently praised Xi while resisting criticizing Chinese trade practices. \\xe2\\x80\\x9cWhile I greatly appreciate the efforts of President Xi & China to help with North Korea, it has not worked out. At least I know China tried!\\xe2\\x80\\x9d Trump wrote on Twitter. It was unclear whether his remark represented a significant shift in his thinking in the U.S. struggle to stop North Korea\\xe2\\x80\\x99s nuclear program and its test launching of missiles or a change in U.S. policy toward China. \\xe2\\x80\\x9cI think the president is signaling some frustration,\\xe2\\x80\\x9d Christopher Hill, a former U.S. ambassador to South Korea, told MSNBC. \\xe2\\x80\\x9cHe\\xe2\\x80\\x99s signaling to others that he understands this isn\\xe2\\x80\\x99t working, and he\\xe2\\x80\\x99s trying to defend himself, or justify himself, by saying that at least they tried as opposed to others who didn\\xe2\\x80\\x99t even try.\\xe2\\x80\\x9d China\\xe2\\x80\\x99s Foreign Ministry said on Wednesday that China had made \\xe2\\x80\\x9cunremitting efforts\\xe2\\x80\\x9d to resolve tensions on the Korean peninsula, and that it had \\xe2\\x80\\x9calways played and important and constructive role\\xe2\\x80\\x9d. \\xe2\\x80\\x9cChina\\xe2\\x80\\x99s efforts to resolve the peninsula nuclear issue is not due to any external pressure, but because China is a member of the region and a responsible member of the international community, and because resolving the peninsula nuclear issue is in China\\xe2\\x80\\x99s interests,\\xe2\\x80\\x9d ministry spokesman Geng Shuang told a daily news briefing.  On Tuesday, a U.S. official, who did not want to be identified, said U.S. spy satellites had detected movements recently at North Korea\\xe2\\x80\\x99s nuclear test site near a tunnel entrance, but it was unclear if these were preparations for a new nuclear test - perhaps to coincide with high-level talks between the United States and China in Washington on Wednesday. \\xe2\\x80\\x9cNorth Korea remains prepared to conduct a sixth nuclear test at any time when there is an order from leadership but there are no new unusual indications that can be shared,\\xe2\\x80\\x9d a South Korean Defense Ministry official said, speaking on the condition of anonymity.  Seoul was in close consultation with Washington over the matter, the official added.     North Korea last tested a nuclear bomb in September, but it has conducted repeated missile test since and vowed to develop a nuclear-tipped missile capable of hitting the U.S. mainland, putting it at the forefront of Trump\\xe2\\x80\\x99s security worries. U.S.-CHINA DIALOGUE The Trump statement about China was likely to increase pressure on Beijing ahead of Wednesday\\xe2\\x80\\x99s Diplomatic and Security Dialogue, which will pair U.S. Secretary of State Rex Tillerson and Defense Secretary James Mattis with China\\xe2\\x80\\x99s top diplomat, State Councilor Yang Jiechi, and General Fang Fenghui, chief of joint staff of the People\\xe2\\x80\\x99s Liberation Army. The State Department says the dialogue will focus on ways to increase pressure on North Korea, but also cover such areas as counter-terrorism and territorial rivalries in the South China Sea. The U.S. side is expected to press China to cooperate on a further toughening of international sanctions on North Korea. The United States and its allies would like to see an oil embargo and bans on the North Korean airline and guest workers among other moves, steps diplomats say have been resisted by China and Russia. In a sign that U.S.-Chinese relations remain stable, a White House aide said Trump\\xe2\\x80\\x99s daughter Ivanka Trump and her husband, White House senior adviser Jared Kushner, were invited by the Chinese government to visit the country later this year. Trump has hardened his rhetoric against North Korea following the death of Otto Warmbier, a University of Virginia student who died on Monday in the United States after returning from captivity in North Korea in a coma. In a White House meeting with visiting Ukraine President Petro Poroshenko, Trump criticized the way Warmbier\\xe2\\x80\\x99s case was handled in the year since his arrest, appearing to assail both North Korea and his predecessor, President Barack Obama. \\xe2\\x80\\x9cWhat happened to Otto is a disgrace. And I spoke with his family. His family is incredible ... but he should have been brought home a long time ago,\\xe2\\x80\\x9d Trump said. State Department spokeswoman Heather Nauert said the United States holds North Korea accountable for Warmbier\\xe2\\x80\\x99s \\xe2\\x80\\x9cunjust imprisonment\\xe2\\x80\\x9d and urged Pyongyang to release three other Americans who are detained. Chinese state-run newspaper the Global Times, published by the official People\\xe2\\x80\\x99s Daily, said Chinese officials must be wary that Warmbier\\xe2\\x80\\x99s death might push Washington to put greater pressure on Beijing. \\xe2\\x80\\x9cChina has made the utmost efforts to help break the stalemate in the North Korean nuclear issue. But by no means will China, nor will Chinese society permit it to, act as a \\xe2\\x80\\x98U.S. ally\\xe2\\x80\\x99 in pressuring North Korea,\\xe2\\x80\\x9d the Global Times said in an editorial. If Washington imposes sanctions on Chinese enterprises, it would lead to \\xe2\\x80\\x9cgrave friction\\xe2\\x80\\x9d between the two countries, said the paper, which does not represent Chinese government policy. Trump\\xe2\\x80\\x99s tweet about China took some advisers by surprise. A senior administration official, speaking on condition of anonymity, said the United States had limited options to rein in North Korea without Chinese assistance. White House spokesman Sean Spicer said a meeting between Trump and North Korean leader Kim Jong Un is less likely following Warmbier\\xe2\\x80\\x99s death. Spicer said Trump would be willing to meet Kim under the right conditions, but \\xe2\\x80\\x9cclearly we\\xe2\\x80\\x99re moving further away, not closer to those conditions.\\xe2\\x80\\x9d For graphic on Americans detained by North Korea, click: tmsnrt.rs/2r5xYpB ', shape=(), dtype=string)\n",
            "tf.Tensor(1, shape=(), dtype=int64)\n",
            "tf.Tensor(b'WASHINGTON (Reuters) - Donald Trump took his first official actions as U.S. president on Friday, sending his Cabinet nominations to the Senate and calling for a national day of patriotism, his spokesman said. Trump, who was sworn into office earlier on Friday, also signed into a law a waiver to allow Defense Secretary-designate James Mattis, a retired U.S. Marine Corps general, to serve, Sean Spicer said. ', shape=(), dtype=string)\n",
            "tf.Tensor(1, shape=(), dtype=int64)\n"
          ]
        }
      ]
    },
    {
      "cell_type": "markdown",
      "source": [
        "Importing BERT model as a Keras layer with tokenizer and vocabulary file\n",
        "\n"
      ],
      "metadata": {
        "id": "un6yQOqSuG3T"
      }
    },
    {
      "cell_type": "code",
      "source": [
        "label_list = [0, 1]  # Label categories\n",
        "max_seq_length = 128 # maximum length of (token) input sequences\n",
        "train_batch_size = 32\n",
        "\n",
        "\n",
        "# Get BERT layer and tokenizer:\n",
        "bert_layer = hub.KerasLayer(\"https://tfhub.dev/tensorflow/bert_en_uncased_L-12_H-768_A-12/2\", trainable=True)\n",
        "\n",
        "vocab_file = bert_layer.resolved_object.vocab_file.asset_path.numpy()\n",
        "do_lower_case = bert_layer.resolved_object.do_lower_case.numpy()\n",
        "tokenizer = tokenization.FullTokenizer(vocab_file, do_lower_case)\n",
        "\n",
        "vocab_file"
      ],
      "metadata": {
        "colab": {
          "base_uri": "https://localhost:8080/"
        },
        "id": "WaSXz2Qse9NL",
        "outputId": "7e2778b0-52de-4ad1-8390-46e3bec86d25"
      },
      "execution_count": 11,
      "outputs": [
        {
          "output_type": "execute_result",
          "data": {
            "text/plain": [
              "b'/tmp/tfhub_modules/ce53fe6769d2ac3a260e92555120c54e1aecbea6/assets/vocab.txt'"
            ]
          },
          "metadata": {},
          "execution_count": 11
        }
      ]
    },
    {
      "cell_type": "markdown",
      "source": [
        "Function to convert row from dataset to input features and label"
      ],
      "metadata": {
        "id": "mUaYS3e_uYgp"
      }
    },
    {
      "cell_type": "code",
      "source": [
        "# This provides a function to convert row to input features and label\n",
        "\n",
        "def to_feature(text, label, label_list=label_list, max_seq_length=max_seq_length, tokenizer=tokenizer):\n",
        "  example = classifier_data_lib.InputExample(guid=None, text_a=text.numpy(), text_b=None, label=label.numpy())\n",
        "  feature = classifier_data_lib.convert_single_example(0, example, label_list, max_seq_length, tokenizer) \n",
        "  \n",
        "  return (feature.input_ids, feature.input_mask, feature.segment_ids, feature.label_id)"
      ],
      "metadata": {
        "id": "Sux-SQUjf4qC"
      },
      "execution_count": 12,
      "outputs": []
    },
    {
      "cell_type": "markdown",
      "source": [
        "Function to map inputs and output"
      ],
      "metadata": {
        "id": "xh6yvxCAua0f"
      }
    },
    {
      "cell_type": "code",
      "source": [
        "def to_feature_map(text, label):\n",
        "  input_ids, input_mask, segment_ids, label_id = tf.py_function(to_feature, inp=[text, label], Tout=[tf.int32, tf.int32, tf.int32, tf.int32])\n",
        "  input_ids.set_shape([max_seq_length])\n",
        "  input_mask.set_shape([max_seq_length])\n",
        "  segment_ids.set_shape([max_seq_length])\n",
        "  label_id.set_shape([])\n",
        "\n",
        "  x = {\n",
        "      'input_word_ids': input_ids,\n",
        "      'input_mask': input_mask,\n",
        "      'input_type_ids': segment_ids\n",
        "  }\n",
        "\n",
        "  return (x, label_id)"
      ],
      "metadata": {
        "id": "LwPAqA0xf40x"
      },
      "execution_count": 13,
      "outputs": []
    },
    {
      "cell_type": "markdown",
      "source": [
        "Creating a TensorFlow Input Pipeline"
      ],
      "metadata": {
        "id": "i4i4ULsUueBH"
      }
    },
    {
      "cell_type": "code",
      "source": [
        "with tf.device('/cpu:0'):\n",
        "  # train\n",
        "  train_data = (train_data.map(to_feature_map, \n",
        "                               num_parallel_calls=tf.data.experimental.AUTOTUNE)\n",
        "  .shuffle(1000)\n",
        "  .batch(32, drop_remainder=True)\n",
        "  .prefetch(tf.data.experimental.AUTOTUNE))\n",
        "\n",
        "  # valid\n",
        "  valid_data = (valid_data.map(to_feature_map, \n",
        "                               num_parallel_calls=tf.data.experimental.AUTOTUNE)\n",
        "  .batch(32, drop_remainder=True)\n",
        "  .prefetch(tf.data.experimental.AUTOTUNE))\n",
        "  \n",
        "  # test\n",
        "  test_data = tf.data.Dataset.from_tensor_slices((test_data['text'].values, test_data['real'].values))\n",
        "  test_data = (test_data.map(to_feature_map, \n",
        "                               num_parallel_calls=tf.data.experimental.AUTOTUNE)\n",
        "  .batch(32, drop_remainder=True)\n",
        "  .prefetch(tf.data.experimental.AUTOTUNE))"
      ],
      "metadata": {
        "id": "iJedJT1QgFyI"
      },
      "execution_count": 14,
      "outputs": []
    },
    {
      "cell_type": "code",
      "source": [
        "# train data spec\n",
        "train_data.element_spec"
      ],
      "metadata": {
        "colab": {
          "base_uri": "https://localhost:8080/"
        },
        "id": "oNvh8OJggLjC",
        "outputId": "3a3466e8-9cb7-4297-9ce7-6a919d2a1304"
      },
      "execution_count": 15,
      "outputs": [
        {
          "output_type": "execute_result",
          "data": {
            "text/plain": [
              "({'input_mask': TensorSpec(shape=(32, 128), dtype=tf.int32, name=None),\n",
              "  'input_type_ids': TensorSpec(shape=(32, 128), dtype=tf.int32, name=None),\n",
              "  'input_word_ids': TensorSpec(shape=(32, 128), dtype=tf.int32, name=None)},\n",
              " TensorSpec(shape=(32,), dtype=tf.int32, name=None))"
            ]
          },
          "metadata": {},
          "execution_count": 15
        }
      ]
    },
    {
      "cell_type": "code",
      "source": [
        "# valid data spec\n",
        "valid_data.element_spec"
      ],
      "metadata": {
        "colab": {
          "base_uri": "https://localhost:8080/"
        },
        "id": "x2gvnPbFgMly",
        "outputId": "1c4492cf-aa51-4eab-cdc0-d90007db6167"
      },
      "execution_count": 16,
      "outputs": [
        {
          "output_type": "execute_result",
          "data": {
            "text/plain": [
              "({'input_mask': TensorSpec(shape=(32, 128), dtype=tf.int32, name=None),\n",
              "  'input_type_ids': TensorSpec(shape=(32, 128), dtype=tf.int32, name=None),\n",
              "  'input_word_ids': TensorSpec(shape=(32, 128), dtype=tf.int32, name=None)},\n",
              " TensorSpec(shape=(32,), dtype=tf.int32, name=None))"
            ]
          },
          "metadata": {},
          "execution_count": 16
        }
      ]
    },
    {
      "cell_type": "code",
      "source": [
        "test_data.element_spec"
      ],
      "metadata": {
        "id": "MYyIyw9_uq0x",
        "colab": {
          "base_uri": "https://localhost:8080/"
        },
        "outputId": "005a37c2-ce41-469c-e349-c85ca976f041"
      },
      "execution_count": 17,
      "outputs": [
        {
          "output_type": "execute_result",
          "data": {
            "text/plain": [
              "({'input_mask': TensorSpec(shape=(32, 128), dtype=tf.int32, name=None),\n",
              "  'input_type_ids': TensorSpec(shape=(32, 128), dtype=tf.int32, name=None),\n",
              "  'input_word_ids': TensorSpec(shape=(32, 128), dtype=tf.int32, name=None)},\n",
              " TensorSpec(shape=(32,), dtype=tf.int32, name=None))"
            ]
          },
          "metadata": {},
          "execution_count": 17
        }
      ]
    },
    {
      "cell_type": "markdown",
      "source": [
        "Creating a model"
      ],
      "metadata": {
        "id": "pWtJay0Iuwf_"
      }
    },
    {
      "cell_type": "code",
      "source": [
        "# Building the model\n",
        "def create_model():\n",
        "  \n",
        "  input_word_ids = tf.keras.layers.Input(shape=(max_seq_length,), dtype=tf.int32,\n",
        "                                       name=\"input_word_ids\")\n",
        "  input_mask = tf.keras.layers.Input(shape=(max_seq_length,), dtype=tf.int32,\n",
        "                                    name=\"input_mask\")\n",
        "  input_type_ids = tf.keras.layers.Input(shape=(max_seq_length,), dtype=tf.int32,\n",
        "                                      name=\"input_type_ids\")\n",
        "  \n",
        "  pooled_output, sequence_output = bert_layer([input_word_ids, input_mask, input_type_ids])\n",
        "\n",
        "  drop = tf.keras.layers.Dropout(0.4)(pooled_output)\n",
        "  output = tf.keras.layers.Dense(1, activation='sigmoid', name=\"output\")(drop)\n",
        "\n",
        "  model = tf.keras.Model(\n",
        "      inputs={\n",
        "          'input_word_ids': input_word_ids,\n",
        "          'input_mask': input_mask,\n",
        "          'input_type_ids': input_type_ids\n",
        "      },\n",
        "      outputs=output)\n",
        "  return model"
      ],
      "metadata": {
        "id": "AuP00NGLgPKn"
      },
      "execution_count": 18,
      "outputs": []
    },
    {
      "cell_type": "code",
      "source": [
        "model = create_model()\n",
        "model.compile(optimizer=tf.keras.optimizers.Adam(learning_rate=2e-5),\n",
        "              loss=tf.keras.losses.BinaryCrossentropy(),\n",
        "              metrics=[tf.keras.metrics.BinaryAccuracy()])\n",
        "model.summary()"
      ],
      "metadata": {
        "colab": {
          "base_uri": "https://localhost:8080/"
        },
        "id": "jzS27szbgSmb",
        "outputId": "a6efbb45-29ce-4de3-fdf6-7e59b0473ff9"
      },
      "execution_count": 19,
      "outputs": [
        {
          "output_type": "stream",
          "name": "stdout",
          "text": [
            "Model: \"model\"\n",
            "__________________________________________________________________________________________________\n",
            " Layer (type)                   Output Shape         Param #     Connected to                     \n",
            "==================================================================================================\n",
            " input_word_ids (InputLayer)    [(None, 128)]        0           []                               \n",
            "                                                                                                  \n",
            " input_mask (InputLayer)        [(None, 128)]        0           []                               \n",
            "                                                                                                  \n",
            " input_type_ids (InputLayer)    [(None, 128)]        0           []                               \n",
            "                                                                                                  \n",
            " keras_layer (KerasLayer)       [(None, 768),        109482241   ['input_word_ids[0][0]',         \n",
            "                                 (None, 128, 768)]                'input_mask[0][0]',             \n",
            "                                                                  'input_type_ids[0][0]']         \n",
            "                                                                                                  \n",
            " dropout (Dropout)              (None, 768)          0           ['keras_layer[0][0]']            \n",
            "                                                                                                  \n",
            " output (Dense)                 (None, 1)            769         ['dropout[0][0]']                \n",
            "                                                                                                  \n",
            "==================================================================================================\n",
            "Total params: 109,483,010\n",
            "Trainable params: 109,483,009\n",
            "Non-trainable params: 1\n",
            "__________________________________________________________________________________________________\n"
          ]
        }
      ]
    },
    {
      "cell_type": "markdown",
      "source": [
        "Training a model"
      ],
      "metadata": {
        "id": "A-DFKNUJCGqN"
      }
    },
    {
      "cell_type": "code",
      "source": [
        "epochs = 3\n",
        "history = model.fit(train_data,\n",
        "                    validation_data=valid_data,\n",
        "                    epochs=epochs,\n",
        "                    verbose=1)"
      ],
      "metadata": {
        "colab": {
          "base_uri": "https://localhost:8080/"
        },
        "id": "HtrGBdIzqiOF",
        "outputId": "95dd0b2c-7046-4611-9312-4e8d74aeee83"
      },
      "execution_count": 20,
      "outputs": [
        {
          "output_type": "stream",
          "name": "stdout",
          "text": [
            "Epoch 1/3\n",
            "982/982 [==============================] - 1637s 2s/step - loss: 0.0121 - binary_accuracy: 0.9969 - val_loss: 0.0037 - val_binary_accuracy: 0.9994\n",
            "Epoch 2/3\n",
            "982/982 [==============================] - 1606s 2s/step - loss: 0.0020 - binary_accuracy: 0.9996 - val_loss: 0.0029 - val_binary_accuracy: 0.9991\n",
            "Epoch 3/3\n",
            "982/982 [==============================] - 1629s 2s/step - loss: 0.0020 - binary_accuracy: 0.9996 - val_loss: 3.7260e-05 - val_binary_accuracy: 1.0000\n"
          ]
        }
      ]
    },
    {
      "cell_type": "code",
      "source": [
        "import matplotlib.pyplot as plt\n",
        "\n",
        "def plot_graphs(history, metric):\n",
        "  plt.plot(history.history[metric])\n",
        "  plt.plot(history.history['val_'+metric], '')\n",
        "  plt.xlabel(\"Epochs\")\n",
        "  plt.ylabel(metric)\n",
        "  plt.legend([metric, 'val_'+metric])\n",
        "  plt.show()"
      ],
      "metadata": {
        "id": "cPq34mcEQ5Ve"
      },
      "execution_count": 21,
      "outputs": []
    },
    {
      "cell_type": "code",
      "source": [
        "plot_graphs(history, 'loss')"
      ],
      "metadata": {
        "colab": {
          "base_uri": "https://localhost:8080/",
          "height": 279
        },
        "id": "qF6A4QNFRR5D",
        "outputId": "8f7e4dbd-ff46-4267-fc29-7f0683198a07"
      },
      "execution_count": 22,
      "outputs": [
        {
          "output_type": "display_data",
          "data": {
            "image/png": "[encoded data removed]",
            "text/plain": [
              "<Figure size 432x288 with 1 Axes>"
            ]
          },
          "metadata": {
            "needs_background": "light"
          }
        }
      ]
    },
    {
      "cell_type": "code",
      "source": [
        "plot_graphs(history, 'binary_accuracy')"
      ],
      "metadata": {
        "id": "vV074uouRVM-",
        "colab": {
          "base_uri": "https://localhost:8080/",
          "height": 279
        },
        "outputId": "dfdaf049-cf15-4bfc-e14f-355eec219c81"
      },
      "execution_count": 23,
      "outputs": [
        {
          "output_type": "display_data",
          "data": {
            "image/png": "[encoded data removed]",
            "text/plain": [
              "<Figure size 432x288 with 1 Axes>"
            ]
          },
          "metadata": {
            "needs_background": "light"
          }
        }
      ]
    },
    {
      "cell_type": "code",
      "source": [
        "predictions = model.predict(test_data)"
      ],
      "metadata": {
        "id": "wT0B1ypvRXdB"
      },
      "execution_count": 24,
      "outputs": []
    },
    {
      "cell_type": "code",
      "source": [
        "loss, accuracy = model.evaluate(test_data)\n",
        "\n",
        "print(f'Loss: {loss}')\n",
        "print(f'Accuracy: {accuracy}')"
      ],
      "metadata": {
        "colab": {
          "base_uri": "https://localhost:8080/"
        },
        "id": "nhu-d8vqRiD3",
        "outputId": "c9962c73-9a09-4fb6-8398-73293f93d82c"
      },
      "execution_count": 25,
      "outputs": [
        {
          "output_type": "stream",
          "name": "stdout",
          "text": [
            "315/315 [==============================] - 175s 555ms/step - loss: 0.0015 - binary_accuracy: 0.9997\n",
            "Loss: 0.0015213902806863189\n",
            "Accuracy: 0.9997023940086365\n"
          ]
        }
      ]
    },
    {
      "cell_type": "code",
      "source": [
        "sample_example = ['This is Disturbing,\"Donald Trump just couldn t wish all Americans a Happy New Year and leave it at that. Instead, he had to give a shout out to his enemies, haters and  the very dishonest fake news media.  The former reality show star had just one job to do and he couldn t do it. As our Country rapidly grows stronger and smarter, I want to wish all of my friends, supporters, enemies, haters, and even the very dishonest Fake News Media, a Happy and Healthy New Year,  President Angry Pants tweeted.  2018 will be a great year for America! As our Country rapidly grows stronger and smarter, I want to wish all of my friends, supporters, enemies, haters, and even the very dishonest Fake News Media, a Happy and Healthy New Year. 2018 will be a great year for America!  Donald J. Trump (@realDonaldTrump) December 31, 2017Trump s tweet went down about as welll as you d expect.What kind of president sends a New Year s greeting like this despicable, petty, infantile gibberish? Only Trump! His lack of decency won t even allow him to rise above the gutter long enough to wish the American citizens a happy new year!  Bishop Talbert Swan (@TalbertSwan) December 31, 2017no one likes you  Calvin (@calvinstowell) December 31, 2017Your impeachment would make 2018 a great year for America, but I ll also accept regaining control of Congress.  Miranda Yaver (@mirandayaver) December 31, 2017Do you hear yourself talk? When you have to include that many people that hate you you have to wonder? Why do the they all hate me?  Alan Sandoval (@AlanSandoval13) December 31, 2017Who uses the word Haters in a New Years wish??  Marlene (@marlene399) December 31, 2017You can t just say happy new year?  Koren pollitt (@Korencarpenter) December 31, 2017Here s Trump s New Year s Eve tweet from 2016.Happy New Year to all, including to my many enemies and those who have fought me and lost so badly they just don t know what to do. Love!  Donald J. Trump (@realDonaldTrump) December 31, 2016This is nothing new for Trump. He s been doing this for years.Trump has directed messages to his  enemies  and  haters  for New Year s, Easter, Thanksgiving, and the anniversary of 9/11. pic.twitter.com/4FPAe2KypA  Daniel Dale (@ddale8) December 31, 2017Trump s holiday tweets are clearly not presidential.How long did he work at Hallmark before becoming President?  Steven Goodine (@SGoodine) December 31, 2017He s always been like this . . . the only difference is that in the last few years, his filter has been breaking down.  Roy Schulze (@thbthttt) December 31, 2017Who, apart from a teenager uses the term haters?  Wendy (@WendyWhistles) December 31, 2017he s a fucking 5 year old  Who Knows (@rainyday80) December 31, 2017So, to all the people who voted for this a hole thinking he would change once he got into power, you were wrong! 70-year-old men don t change and now he s a year older.Photo by Andrew Burton/Getty Images.\",News,\"December 31, 2017\"',\n",
        "                  'As U.S. budget fight looms, Republicans flip their fiscal script,\"WASHINGTON (Reuters) - The head of a conservative Republican faction in the U.S. Congress, who voted this month for a huge expansion of the national debt to pay for tax cuts, called himself a â€śfiscal conservativeâ€ť on Sunday and urged budget restraint in 2018. In keeping with a sharp pivot under way among Republicans, U.S. Representative Mark Meadows, speaking on CBSâ€™ â€śFace the Nation,â€ť drew a hard line on federal spending, which lawmakers are bracing to do battle over in January. When they return from the holidays on Wednesday, lawmakers will begin trying to pass a federal budget in a fight likely to be linked to other issues, such as immigration policy, even as the November congressional election campaigns approach in which Republicans will seek to keep control of Congress. President Donald Trump and his Republicans want a big budget increase in military spending, while Democrats also want proportional increases for non-defense â€śdiscretionaryâ€ť spending on programs that support education, scientific research, infrastructure, public health and environmental protection. â€śThe (Trump) administration has already been willing to say: â€Weâ€™re going to increase non-defense discretionary spending ... by about 7 percent,â€™â€ť Meadows, chairman of the small but influential House Freedom Caucus, said on the program. â€śNow, Democrats are saying thatâ€™s not enough, we need to give the government a pay raise of 10 to 11 percent. For a fiscal conservative, I donâ€™t see where the rationale is. ... Eventually you run out of other peopleâ€™s money,â€ť he said. Meadows was among Republicans who voted in late December for their partyâ€™s debt-financed tax overhaul, which is expected to balloon the federal budget deficit and add about $1.5 trillion over 10 years to the $20 trillion national debt. â€śItâ€™s interesting to hear Mark talk about fiscal responsibility,â€ť Democratic U.S. Representative Joseph Crowley said on CBS. Crowley said the Republican tax bill would require the  United States to borrow $1.5 trillion, to be paid off by future generations, to finance tax cuts for corporations and the rich. â€śThis is one of the least ... fiscally responsible bills weâ€™ve ever seen passed in the history of the House of Representatives. I think weâ€™re going to be paying for this for many, many years to come,â€ť Crowley said. Republicans insist the tax package, the biggest U.S. tax overhaul in more than 30 years,  will boost the economy and job growth. House Speaker Paul Ryan, who also supported the tax bill, recently went further than Meadows, making clear in a radio interview that welfare or â€śentitlement reform,â€ť as the party often calls it, would be a top Republican priority in 2018. In Republican parlance, â€śentitlementâ€ť programs mean food stamps, housing assistance, Medicare and Medicaid health insurance for the elderly, poor and disabled, as well as other programs created by Washington to assist the needy. Democrats seized on Ryanâ€™s early December remarks, saying they showed Republicans would try to pay for their tax overhaul by seeking spending cuts for social programs. But the goals of House Republicans may have to take a back seat to the Senate, where the votes of some Democrats will be needed to approve a budget and prevent a government shutdown. Democrats will use their leverage in the Senate, which Republicans narrowly control, to defend both discretionary non-defense programs and social spending, while tackling the issue of the â€śDreamers,â€ť people brought illegally to the country as children. Trump in September put a March 2018 expiration date on the Deferred Action for Childhood Arrivals, or DACA, program, which protects the young immigrants from deportation and provides them with work permits. The president has said in recent Twitter messages he wants funding for his proposed Mexican border wall and other immigration law changes in exchange for agreeing to help the Dreamers. Representative Debbie Dingell told CBS she did not favor linking that issue to other policy objectives, such as wall funding. â€śWe need to do DACA clean,â€ť she said.  On Wednesday, Trump aides will meet with congressional leaders to discuss those issues. That will be followed by a weekend of strategy sessions for Trump and Republican leaders on Jan. 6 and 7, the White House said. Trump was also scheduled to meet on Sunday with Florida Republican Governor Rick Scott, who wants more emergency aid. The House has passed an $81 billion aid package after hurricanes in Florida, Texas and Puerto Rico, and wildfires in California. The package far exceeded the $44 billion requested by the Trump administration. The Senate has not yet voted on the aid.']\n",
        "test_data = tf.data.Dataset.from_tensor_slices((sample_example, [0]*len(sample_example)))\n",
        "test_data = (test_data.map(to_feature_map).batch(1))\n",
        "preds = model.predict(test_data)\n",
        "threshold = 0.5 \n",
        "['Real' if pred>=threshold else 'Fake' for pred in preds]"
      ],
      "metadata": {
        "colab": {
          "base_uri": "https://localhost:8080/"
        },
        "id": "KiAv7IB6Zfo_",
        "outputId": "ee105c4e-5592-422e-b2e0-e0545733d554"
      },
      "execution_count": 26,
      "outputs": [
        {
          "output_type": "execute_result",
          "data": {
            "text/plain": [
              "['Fake', 'Real']"
            ]
          },
          "metadata": {},
          "execution_count": 26
        }
      ]
    },
    {
      "cell_type": "markdown",
      "source": [
        "Saving a model"
      ],
      "metadata": {
        "id": "Lw8XJw_JCXra"
      }
    },
    {
      "cell_type": "code",
      "source": [
        "model.save('/content/drive/MyDrive/News/bert_model', include_optimizer=False)"
      ],
      "metadata": {
        "id": "xjO1kzv7K7P-",
        "colab": {
          "base_uri": "https://localhost:8080/"
        },
        "outputId": "68f4312b-ced0-44d1-fcdc-cae291b17c77"
      },
      "execution_count": 27,
      "outputs": [
        {
          "output_type": "stream",
          "name": "stderr",
          "text": [
            "WARNING:absl:Found untraced functions such as restored_function_body, restored_function_body, restored_function_body, restored_function_body, restored_function_body while saving (showing 5 of 945). These functions will not be directly callable after loading.\n"
          ]
        },
        {
          "output_type": "stream",
          "name": "stdout",
          "text": [
            "INFO:tensorflow:Assets written to: /content/drive/MyDrive/News/bert_model/assets\n"
          ]
        },
        {
          "output_type": "stream",
          "name": "stderr",
          "text": [
            "INFO:tensorflow:Assets written to: /content/drive/MyDrive/News/bert_model/assets\n"
          ]
        }
      ]
    }
  ]
}